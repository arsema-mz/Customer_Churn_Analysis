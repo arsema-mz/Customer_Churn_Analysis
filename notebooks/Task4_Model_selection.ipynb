{
 "cells": [
  {
   "cell_type": "markdown",
   "id": "b99c673d",
   "metadata": {},
   "source": [
    "# Model Seclection"
   ]
  },
  {
   "cell_type": "code",
   "execution_count": 4,
   "id": "7339dc02",
   "metadata": {},
   "outputs": [
    {
     "name": "stdout",
     "output_type": "stream",
     "text": [
      "✅ Data prepared for Task 4 with selected features: ['tenure', 'InternetService_Fiber optic', 'OnlineSecurity_No internet service', 'OnlineBackup_No internet service', 'DeviceProtection_No internet service', 'TechSupport_No internet service', 'StreamingTV_No internet service', 'StreamingMovies_No internet service', 'Contract_Two year', 'PaymentMethod_Electronic check']\n"
     ]
    }
   ],
   "source": [
    "# Import libraries\n",
    "import pandas as pd\n",
    "import joblib\n",
    "from sklearn.model_selection import train_test_split\n",
    "from sklearn.metrics import accuracy_score, classification_report\n",
    "\n",
    "# Load data\n",
    "X_train = pd.read_csv(\"../data/processed/X_train.csv\")\n",
    "X_test = pd.read_csv(\"../data/processed/X_test.csv\")\n",
    "y_train = pd.read_csv(\"../data/processed/y_train.csv\")\n",
    "y_test = pd.read_csv(\"../data/processed/y_test.csv\")\n",
    "\n",
    "# Load selected features from Task 3\n",
    "selected_features = joblib.load(\"../models/selected_features.pkl\")\n",
    "\n",
    "# Filter datasets\n",
    "X_train_selected = X_train[selected_features]\n",
    "X_test_selected = X_test[selected_features]\n",
    "\n",
    "print(\"✅ Data prepared for Task 4 with selected features:\", selected_features)\n"
   ]
  },
  {
   "cell_type": "code",
   "execution_count": 5,
   "id": "710fb76b",
   "metadata": {},
   "outputs": [
    {
     "data": {
      "text/html": [
       "<div>\n",
       "<style scoped>\n",
       "    .dataframe tbody tr th:only-of-type {\n",
       "        vertical-align: middle;\n",
       "    }\n",
       "\n",
       "    .dataframe tbody tr th {\n",
       "        vertical-align: top;\n",
       "    }\n",
       "\n",
       "    .dataframe thead th {\n",
       "        text-align: right;\n",
       "    }\n",
       "</style>\n",
       "<table border=\"1\" class=\"dataframe\">\n",
       "  <thead>\n",
       "    <tr style=\"text-align: right;\">\n",
       "      <th></th>\n",
       "      <th>Accuracy</th>\n",
       "      <th>Precision</th>\n",
       "      <th>Recall</th>\n",
       "      <th>F1-Score</th>\n",
       "      <th>ROC-AUC</th>\n",
       "    </tr>\n",
       "  </thead>\n",
       "  <tbody>\n",
       "    <tr>\n",
       "      <th>Gradient Boosting</th>\n",
       "      <td>0.794579</td>\n",
       "      <td>0.644599</td>\n",
       "      <td>0.498652</td>\n",
       "      <td>0.562310</td>\n",
       "      <td>0.699860</td>\n",
       "    </tr>\n",
       "    <tr>\n",
       "      <th>Logistic Regression</th>\n",
       "      <td>0.798146</td>\n",
       "      <td>0.669231</td>\n",
       "      <td>0.469003</td>\n",
       "      <td>0.551506</td>\n",
       "      <td>0.692794</td>\n",
       "    </tr>\n",
       "    <tr>\n",
       "      <th>Random Forest</th>\n",
       "      <td>0.776034</td>\n",
       "      <td>0.603636</td>\n",
       "      <td>0.447439</td>\n",
       "      <td>0.513932</td>\n",
       "      <td>0.670858</td>\n",
       "    </tr>\n",
       "  </tbody>\n",
       "</table>\n",
       "</div>"
      ],
      "text/plain": [
       "                     Accuracy  Precision    Recall  F1-Score   ROC-AUC\n",
       "Gradient Boosting    0.794579   0.644599  0.498652  0.562310  0.699860\n",
       "Logistic Regression  0.798146   0.669231  0.469003  0.551506  0.692794\n",
       "Random Forest        0.776034   0.603636  0.447439  0.513932  0.670858"
      ]
     },
     "execution_count": 5,
     "metadata": {},
     "output_type": "execute_result"
    }
   ],
   "source": [
    "from sklearn.linear_model import LogisticRegression\n",
    "from sklearn.ensemble import RandomForestClassifier, GradientBoostingClassifier\n",
    "from sklearn.metrics import accuracy_score, precision_score, recall_score, f1_score, roc_auc_score\n",
    "import pandas as pd\n",
    "\n",
    "# Define candidate models\n",
    "models = {\n",
    "    \"Logistic Regression\": LogisticRegression(max_iter=1000, random_state=42),\n",
    "    \"Random Forest\": RandomForestClassifier(n_estimators=100, random_state=42),\n",
    "    \"Gradient Boosting\": GradientBoostingClassifier(random_state=42)\n",
    "}\n",
    "\n",
    "# Evaluate models\n",
    "results = {}\n",
    "\n",
    "for name, model in models.items():\n",
    "    model.fit(X_train_selected, y_train.values.ravel())\n",
    "    y_pred = model.predict(X_test_selected)\n",
    "    \n",
    "    results[name] = {\n",
    "        \"Accuracy\": accuracy_score(y_test, y_pred),\n",
    "        \"Precision\": precision_score(y_test, y_pred),\n",
    "        \"Recall\": recall_score(y_test, y_pred),\n",
    "        \"F1-Score\": f1_score(y_test, y_pred),\n",
    "        \"ROC-AUC\": roc_auc_score(y_test, y_pred)\n",
    "    }\n",
    "\n",
    "# Convert to DataFrame for easy comparison\n",
    "results_df = pd.DataFrame(results).T\n",
    "results_df.sort_values(by=\"ROC-AUC\", ascending=False)\n"
   ]
  },
  {
   "cell_type": "code",
   "execution_count": 6,
   "id": "e5952d9e",
   "metadata": {},
   "outputs": [
    {
     "name": "stdout",
     "output_type": "stream",
     "text": [
      "✅ Gradient Boosting model saved successfully for Task 5.\n"
     ]
    }
   ],
   "source": [
    "import joblib\n",
    "\n",
    "# Save best model (Gradient Boosting)\n",
    "best_model = models[\"Gradient Boosting\"]\n",
    "joblib.dump(best_model, \"../models/gradient_boosting_model.pkl\")\n",
    "\n",
    "print(\"✅ Gradient Boosting model saved successfully for Task 5.\")\n"
   ]
  },
  {
   "cell_type": "markdown",
   "id": "c0c69605",
   "metadata": {},
   "source": [
    "### 🧩 Task 4 Summary: Model Selection\n",
    "\n",
    "I compared three models — **Logistic Regression**, **Random Forest**, and **Gradient Boosting** — using the top 10 features selected in Task 3.  \n",
    "Performance was evaluated using Accuracy, Precision, Recall, F1-Score, and ROC-AUC.\n",
    "\n",
    "| Model | Accuracy | Precision | Recall | F1-Score | ROC-AUC |\n",
    "|--------|-----------|------------|----------|------------|-----------|\n",
    "| Gradient Boosting | 0.7946 | 0.6446 | 0.4987 | 0.5623 | **0.6999** |\n",
    "| Logistic Regression | 0.7981 | **0.6692** | 0.4690 | 0.5515 | 0.6928 |\n",
    "| Random Forest | 0.7760 | 0.6036 | 0.4474 | 0.5139 | 0.6709 |\n",
    "\n",
    "**Conclusion:** Gradient Boosting achieved the best balance between precision and recall, with the highest ROC-AUC score.  \n",
    "Hence, it was chosen as the **best model** for further fine-tuning and evaluation in **Task 5**.\n"
   ]
  }
 ],
 "metadata": {
  "kernelspec": {
   "display_name": "Python 3",
   "language": "python",
   "name": "python3"
  },
  "language_info": {
   "codemirror_mode": {
    "name": "ipython",
    "version": 3
   },
   "file_extension": ".py",
   "mimetype": "text/x-python",
   "name": "python",
   "nbconvert_exporter": "python",
   "pygments_lexer": "ipython3",
   "version": "3.12.4"
  }
 },
 "nbformat": 4,
 "nbformat_minor": 5
}
