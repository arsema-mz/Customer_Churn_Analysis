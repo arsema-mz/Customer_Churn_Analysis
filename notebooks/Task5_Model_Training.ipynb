{
 "cells": [
  {
   "cell_type": "markdown",
   "id": "655fc448",
   "metadata": {},
   "source": [
    "# Model Training "
   ]
  },
  {
   "cell_type": "code",
   "execution_count": 1,
   "id": "cfddc238",
   "metadata": {},
   "outputs": [],
   "source": [
    "# Import essential libraries\n",
    "import pandas as pd\n",
    "import joblib\n",
    "from sklearn.ensemble import GradientBoostingClassifier\n",
    "from sklearn.metrics import accuracy_score, precision_score, recall_score, f1_score, roc_auc_score, classification_report, confusion_matrix\n",
    "import matplotlib.pyplot as plt\n",
    "import seaborn as sns\n"
   ]
  },
  {
   "cell_type": "code",
   "execution_count": 2,
   "id": "5399078c",
   "metadata": {},
   "outputs": [],
   "source": [
    "# Load train/test datasets\n",
    "X_train = pd.read_csv(\"../data/processed/X_train.csv\")\n",
    "X_test = pd.read_csv(\"../data/processed/X_test.csv\")\n",
    "y_train = pd.read_csv(\"../data/processed/y_train.csv\")\n",
    "y_test = pd.read_csv(\"../data/processed/y_test.csv\")\n",
    "\n",
    "# Keep only selected top features from Task 3\n",
    "selected_features = [\n",
    "    'tenure', \n",
    "    'InternetService_Fiber optic',\n",
    "    'OnlineSecurity_No internet service',\n",
    "    'OnlineBackup_No internet service',\n",
    "    'DeviceProtection_No internet service',\n",
    "    'TechSupport_No internet service',\n",
    "    'StreamingTV_No internet service',\n",
    "    'StreamingMovies_No internet service',\n",
    "    'Contract_Two year',\n",
    "    'PaymentMethod_Electronic check'\n",
    "]\n",
    "\n",
    "X_train = X_train[selected_features]\n",
    "X_test = X_test[selected_features]\n"
   ]
  },
  {
   "cell_type": "code",
   "execution_count": 3,
   "id": "301ade48",
   "metadata": {},
   "outputs": [
    {
     "name": "stdout",
     "output_type": "stream",
     "text": [
      "✅ Model training completed successfully.\n"
     ]
    }
   ],
   "source": [
    "# Initialize the model\n",
    "gb_model = GradientBoostingClassifier(random_state=42)\n",
    "\n",
    "# Train the model\n",
    "gb_model.fit(X_train, y_train.values.ravel())\n",
    "\n",
    "print(\"✅ Model training completed successfully.\")\n"
   ]
  },
  {
   "cell_type": "code",
   "execution_count": 4,
   "id": "de27ea55",
   "metadata": {},
   "outputs": [
    {
     "name": "stdout",
     "output_type": "stream",
     "text": [
      "✅ Model trained and saved successfully as 'final_gradient_boosting_model.pkl'\n"
     ]
    }
   ],
   "source": [
    "y_pred = gb_model.predict(X_test)\n",
    "\n",
    "# Save trained model\n",
    "joblib.dump(gb_model, \"../models/final_gradient_boosting_model.pkl\")\n",
    "print(\"✅ Model trained and saved successfully as 'final_gradient_boosting_model.pkl'\")"
   ]
  },
  {
   "cell_type": "markdown",
   "id": "b20ef9f6",
   "metadata": {},
   "source": [
    "### Task 5: Model Training\n",
    "\n",
    "We trained the **Gradient Boosting Classifier** using the top 10 selected features.\n",
    "After training, test predictions were generated to verify the model’s functionality.\n",
    "The trained model was then saved for further evaluation in **Task 6**.\n",
    "\n",
    "**Output:**  \n",
    "- Trained model: `final_gradient_boosting_model.pkl`\n",
    "- Ready for evaluation and explainability analysis.\n"
   ]
  }
 ],
 "metadata": {
  "kernelspec": {
   "display_name": "Python 3",
   "language": "python",
   "name": "python3"
  },
  "language_info": {
   "codemirror_mode": {
    "name": "ipython",
    "version": 3
   },
   "file_extension": ".py",
   "mimetype": "text/x-python",
   "name": "python",
   "nbconvert_exporter": "python",
   "pygments_lexer": "ipython3",
   "version": "3.12.4"
  }
 },
 "nbformat": 4,
 "nbformat_minor": 5
}
