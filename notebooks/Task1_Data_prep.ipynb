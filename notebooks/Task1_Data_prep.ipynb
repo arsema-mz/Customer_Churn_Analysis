{
 "cells": [
  {
   "cell_type": "markdown",
   "id": "b7ab485b",
   "metadata": {},
   "source": [
    "# Data Preparation\n"
   ]
  },
  {
   "cell_type": "code",
   "execution_count": 3,
   "id": "69a8db93",
   "metadata": {},
   "outputs": [],
   "source": [
    "import os \n",
    "import random\n",
    "import numpy as np \n",
    "import pandas as pd \n",
    "import matplotlib.pyplot as plt\n",
    "import seaborn as sns"
   ]
  },
  {
   "cell_type": "code",
   "execution_count": 4,
   "id": "8fd50cb8",
   "metadata": {},
   "outputs": [
    {
     "name": "stdout",
     "output_type": "stream",
     "text": [
      "<class 'pandas.core.frame.DataFrame'>\n",
      "RangeIndex: 7043 entries, 0 to 7042\n",
      "Data columns (total 21 columns):\n",
      " #   Column            Non-Null Count  Dtype  \n",
      "---  ------            --------------  -----  \n",
      " 0   customerID        7043 non-null   object \n",
      " 1   gender            7043 non-null   object \n",
      " 2   SeniorCitizen     7043 non-null   int64  \n",
      " 3   Partner           7043 non-null   object \n",
      " 4   Dependents        7043 non-null   object \n",
      " 5   tenure            7043 non-null   int64  \n",
      " 6   PhoneService      7043 non-null   object \n",
      " 7   MultipleLines     7043 non-null   object \n",
      " 8   InternetService   7043 non-null   object \n",
      " 9   OnlineSecurity    7043 non-null   object \n",
      " 10  OnlineBackup      7043 non-null   object \n",
      " 11  DeviceProtection  7043 non-null   object \n",
      " 12  TechSupport       7043 non-null   object \n",
      " 13  StreamingTV       7043 non-null   object \n",
      " 14  StreamingMovies   7043 non-null   object \n",
      " 15  Contract          7043 non-null   object \n",
      " 16  PaperlessBilling  7043 non-null   object \n",
      " 17  PaymentMethod     7043 non-null   object \n",
      " 18  MonthlyCharges    7043 non-null   float64\n",
      " 19  TotalCharges      7043 non-null   object \n",
      " 20  Churn             7043 non-null   object \n",
      "dtypes: float64(1), int64(2), object(18)\n",
      "memory usage: 1.1+ MB\n"
     ]
    },
    {
     "data": {
      "text/plain": [
       "customerID          0\n",
       "gender              0\n",
       "SeniorCitizen       0\n",
       "Partner             0\n",
       "Dependents          0\n",
       "tenure              0\n",
       "PhoneService        0\n",
       "MultipleLines       0\n",
       "InternetService     0\n",
       "OnlineSecurity      0\n",
       "OnlineBackup        0\n",
       "DeviceProtection    0\n",
       "TechSupport         0\n",
       "StreamingTV         0\n",
       "StreamingMovies     0\n",
       "Contract            0\n",
       "PaperlessBilling    0\n",
       "PaymentMethod       0\n",
       "MonthlyCharges      0\n",
       "TotalCharges        0\n",
       "Churn               0\n",
       "dtype: int64"
      ]
     },
     "execution_count": 4,
     "metadata": {},
     "output_type": "execute_result"
    }
   ],
   "source": [
    "df = pd.read_csv(\"../data/raw/Telco_Customer_Churn_Dataset  (1).csv\")  \n",
    "df.head()\n",
    "df.info()\n",
    "df.isna().sum()"
   ]
  },
  {
   "cell_type": "markdown",
   "id": "7e321d1a",
   "metadata": {},
   "source": [
    "## Here’s the analysis of what we see so far:\n",
    "\n",
    "### ✅ Dataset has 7043 rows × 21 columns.\n",
    "\n",
    "### ✅ No missing values reported (0 in all columns).\n",
    "\n",
    "### ⚠️ But TotalCharges is stored as object (string) even though it should be numeric (since it’s charges). → We’ll need to convert it to numeric.\n",
    "\n",
    "### SeniorCitizen is already int64 but it’s actually categorical (0 = No, 1 = Yes)."
   ]
  },
  {
   "cell_type": "code",
   "execution_count": 5,
   "id": "ec2c9d14",
   "metadata": {},
   "outputs": [
    {
     "name": "stdout",
     "output_type": "stream",
     "text": [
      "0      29.85\n",
      "1     1889.5\n",
      "2     108.15\n",
      "3    1840.75\n",
      "4     151.65\n",
      "5      820.5\n",
      "6     1949.4\n",
      "7      301.9\n",
      "8    3046.05\n",
      "9    3487.95\n",
      "Name: TotalCharges, dtype: object\n",
      "object\n"
     ]
    },
    {
     "data": {
      "text/plain": [
       "np.int64(11)"
      ]
     },
     "execution_count": 5,
     "metadata": {},
     "output_type": "execute_result"
    }
   ],
   "source": [
    "# Inspect unique values and try to convert\n",
    "print(df[\"TotalCharges\"].head(10))\n",
    "print(df[\"TotalCharges\"].dtype)\n",
    "\n",
    "# Convert to numeric (coerce errors to NaN for bad values)\n",
    "df[\"TotalCharges\"] = pd.to_numeric(df[\"TotalCharges\"], errors=\"coerce\")\n",
    "\n",
    "# Check how many NaNs we got after conversion\n",
    "df[\"TotalCharges\"].isna().sum()"
   ]
  },
  {
   "cell_type": "code",
   "execution_count": 6,
   "id": "4dcdd2dc",
   "metadata": {},
   "outputs": [
    {
     "name": "stdout",
     "output_type": "stream",
     "text": [
      "float64\n",
      "0      29.85\n",
      "1    1889.50\n",
      "2     108.15\n",
      "3    1840.75\n",
      "4     151.65\n",
      "5     820.50\n",
      "6    1949.40\n",
      "7     301.90\n",
      "8    3046.05\n",
      "9    3487.95\n",
      "Name: TotalCharges, dtype: float64\n"
     ]
    }
   ],
   "source": [
    "# Convert TotalCharges to numeric\n",
    "df[\"TotalCharges\"] = pd.to_numeric(df[\"TotalCharges\"], errors=\"coerce\")\n",
    "\n",
    "# Check the result\n",
    "print(df[\"TotalCharges\"].dtype)\n",
    "print(df[\"TotalCharges\"].head(10))"
   ]
  },
  {
   "cell_type": "code",
   "execution_count": 7,
   "id": "d799dc10",
   "metadata": {},
   "outputs": [
    {
     "name": "stdout",
     "output_type": "stream",
     "text": [
      "Missing values in TotalCharges: 11\n"
     ]
    }
   ],
   "source": [
    "# Count missing values in TotalCharges\n",
    "missing_total = df[\"TotalCharges\"].isna().sum()\n",
    "print(\"Missing values in TotalCharges:\", missing_total)\n"
   ]
  },
  {
   "cell_type": "code",
   "execution_count": 8,
   "id": "6fae0ad9",
   "metadata": {},
   "outputs": [
    {
     "name": "stdout",
     "output_type": "stream",
     "text": [
      "Shape after dropping missing TotalCharges: (7032, 21)\n"
     ]
    }
   ],
   "source": [
    "df = df.dropna(subset=[\"TotalCharges\"])\n",
    "print(\"Shape after dropping missing TotalCharges:\", df.shape)\n"
   ]
  }
 ],
 "metadata": {
  "kernelspec": {
   "display_name": "Python 3",
   "language": "python",
   "name": "python3"
  },
  "language_info": {
   "codemirror_mode": {
    "name": "ipython",
    "version": 3
   },
   "file_extension": ".py",
   "mimetype": "text/x-python",
   "name": "python",
   "nbconvert_exporter": "python",
   "pygments_lexer": "ipython3",
   "version": "3.12.4"
  }
 },
 "nbformat": 4,
 "nbformat_minor": 5
}
