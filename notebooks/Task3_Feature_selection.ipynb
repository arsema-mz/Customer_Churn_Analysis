{
 "cells": [
  {
   "cell_type": "markdown",
   "id": "5307663e",
   "metadata": {},
   "source": [
    "# Feature Selection"
   ]
  },
  {
   "cell_type": "code",
   "execution_count": 2,
   "id": "32bd79a7",
   "metadata": {},
   "outputs": [],
   "source": [
    "# Import libraries\n",
    "import pandas as pd\n",
    "import numpy as np\n",
    "from sklearn.feature_selection import SelectKBest, f_classif\n",
    "from sklearn.model_selection import train_test_split"
   ]
  },
  {
   "cell_type": "code",
   "execution_count": 3,
   "id": "d3bc3d58",
   "metadata": {},
   "outputs": [],
   "source": [
    "# Load the datasets\n",
    "X_train = pd.read_csv(\"../data/processed/X_train.csv\")\n",
    "X_test = pd.read_csv(\"../data/processed/X_test.csv\")\n",
    "y_train = pd.read_csv(\"../data/processed/y_train.csv\")\n",
    "y_test = pd.read_csv(\"../data/processed/y_test.csv\")"
   ]
  },
  {
   "cell_type": "code",
   "execution_count": 4,
   "id": "0979818e",
   "metadata": {},
   "outputs": [
    {
     "name": "stdout",
     "output_type": "stream",
     "text": [
      "Selected features: Index(['tenure', 'InternetService_Fiber optic',\n",
      "       'OnlineSecurity_No internet service',\n",
      "       'OnlineBackup_No internet service',\n",
      "       'DeviceProtection_No internet service',\n",
      "       'TechSupport_No internet service', 'StreamingTV_No internet service',\n",
      "       'StreamingMovies_No internet service', 'Contract_Two year',\n",
      "       'PaymentMethod_Electronic check'],\n",
      "      dtype='object')\n"
     ]
    }
   ],
   "source": [
    "# Feature selection using SelectKBest\n",
    "from sklearn.feature_selection import SelectKBest, f_classif\n",
    "\n",
    "# Select top K features\n",
    "k = 10  # You can adjust this number based on your needs\n",
    "selector = SelectKBest(score_func=f_classif, k=k)\n",
    "selector.fit(X_train, y_train.values.ravel())\n",
    "\n",
    "# Get the selected feature indices and names\n",
    "selected_features = X_train.columns[selector.get_support()]\n",
    "\n",
    "print(\"Selected features:\", selected_features)"
   ]
  },
  {
   "cell_type": "code",
   "execution_count": 5,
   "id": "0fac2fe9",
   "metadata": {},
   "outputs": [
    {
     "name": "stdout",
     "output_type": "stream",
     "text": [
      "✅ Selected features saved successfully!\n"
     ]
    }
   ],
   "source": [
    "import joblib\n",
    "\n",
    "joblib.dump(selected_features.tolist(), \"../models/selected_features.pkl\")\n",
    "print(\"✅ Selected features saved successfully!\")\n"
   ]
  },
  {
   "cell_type": "markdown",
   "id": "d6578447",
   "metadata": {},
   "source": [
    "## 🧩 Task 3 Summary – Feature Selection\n",
    "\n",
    "**Goal:** Identify the most relevant features that contribute to customer churn.\n",
    "\n",
    "**Method Used:** ANOVA F-test using `SelectKBest` with `f_classif` (k=10).\n",
    "\n",
    "**Selected Features:**\n",
    "- tenure  \n",
    "- InternetService_Fiber optic  \n",
    "- OnlineSecurity_No internet service  \n",
    "- OnlineBackup_No internet service  \n",
    "- DeviceProtection_No internet service  \n",
    "- TechSupport_No internet service  \n",
    "- StreamingTV_No internet service  \n",
    "- StreamingMovies_No internet service  \n",
    "- Contract_Two year  \n",
    "- PaymentMethod_Electronic check  \n",
    "\n",
    "**Outcome:**  \n",
    "Reduced the dataset to the top 10 features most correlated with churn.  \n",
    "These features will be used for model selection and training in Task 4.\n"
   ]
  }
 ],
 "metadata": {
  "kernelspec": {
   "display_name": "Python 3",
   "language": "python",
   "name": "python3"
  },
  "language_info": {
   "codemirror_mode": {
    "name": "ipython",
    "version": 3
   },
   "file_extension": ".py",
   "mimetype": "text/x-python",
   "name": "python",
   "nbconvert_exporter": "python",
   "pygments_lexer": "ipython3",
   "version": "3.12.4"
  }
 },
 "nbformat": 4,
 "nbformat_minor": 5
}
